{
 "cells": [
  {
   "cell_type": "code",
   "execution_count": 1,
   "id": "4507e2f6",
   "metadata": {},
   "outputs": [],
   "source": [
    "%matplotlib inline\n",
    "import pandas as pd"
   ]
  },
  {
   "cell_type": "code",
   "execution_count": 2,
   "id": "afd077f1",
   "metadata": {},
   "outputs": [
    {
     "data": {
      "text/html": [
       "<div>\n",
       "<style scoped>\n",
       "    .dataframe tbody tr th:only-of-type {\n",
       "        vertical-align: middle;\n",
       "    }\n",
       "\n",
       "    .dataframe tbody tr th {\n",
       "        vertical-align: top;\n",
       "    }\n",
       "\n",
       "    .dataframe thead th {\n",
       "        text-align: right;\n",
       "    }\n",
       "</style>\n",
       "<table border=\"1\" class=\"dataframe\">\n",
       "  <thead>\n",
       "    <tr style=\"text-align: right;\">\n",
       "      <th></th>\n",
       "      <th>NUM BEN</th>\n",
       "      <th>BENEFICIARIO</th>\n",
       "      <th>RFC</th>\n",
       "      <th>FACTURA</th>\n",
       "      <th>CONTRATO</th>\n",
       "      <th>CONCEPTO</th>\n",
       "      <th>TIPO</th>\n",
       "      <th># OP</th>\n",
       "      <th>FECHA</th>\n",
       "      <th>IMPORTE</th>\n",
       "      <th>SHEET</th>\n",
       "    </tr>\n",
       "  </thead>\n",
       "  <tbody>\n",
       "    <tr>\n",
       "      <th>0</th>\n",
       "      <td>110152</td>\n",
       "      <td>LLANTAS Y SERVICIOS SERNA ANAHUAC,S.A. DE C.V.</td>\n",
       "      <td>LSS841015DV3</td>\n",
       "      <td>LLS AF8458-158008-3972</td>\n",
       "      <td>OT. 20204373</td>\n",
       "      <td>REEMPLAZO E INSTALACION DE AMORTIGUADORES (DEL...</td>\n",
       "      <td>TR</td>\n",
       "      <td>1019110.0</td>\n",
       "      <td>2020-12-11</td>\n",
       "      <td>14911.80</td>\n",
       "      <td>GASTOS VARIOS</td>\n",
       "    </tr>\n",
       "    <tr>\n",
       "      <th>1</th>\n",
       "      <td>110152</td>\n",
       "      <td>LLANTAS Y SERVICIOS SERNA ANAHUAC,S.A. DE C.V.</td>\n",
       "      <td>LSS841015DV3</td>\n",
       "      <td>LLS PF6916-158008-4041</td>\n",
       "      <td>OT. 20204425</td>\n",
       "      <td>REEMPLAZO E INSTALACION DE OCHO BIRLOS Y NUEVE...</td>\n",
       "      <td>TR</td>\n",
       "      <td>1019110.0</td>\n",
       "      <td>2020-12-11</td>\n",
       "      <td>2528.80</td>\n",
       "      <td>GASTOS VARIOS</td>\n",
       "    </tr>\n",
       "    <tr>\n",
       "      <th>2</th>\n",
       "      <td>110152</td>\n",
       "      <td>LLANTAS Y SERVICIOS SERNA ANAHUAC,S.A. DE C.V.</td>\n",
       "      <td>LSS841015DV3</td>\n",
       "      <td>LLS PF6917-158008-3975</td>\n",
       "      <td>OT. 20204376</td>\n",
       "      <td>REEMPLAZO DE DOS RINES  (17). PATRIMONIO 80383...</td>\n",
       "      <td>TR</td>\n",
       "      <td>1019110.0</td>\n",
       "      <td>2020-12-11</td>\n",
       "      <td>8500.02</td>\n",
       "      <td>GASTOS VARIOS</td>\n",
       "    </tr>\n",
       "    <tr>\n",
       "      <th>3</th>\n",
       "      <td>110152</td>\n",
       "      <td>LLANTAS Y SERVICIOS SERNA ANAHUAC,S.A. DE C.V.</td>\n",
       "      <td>LSS841015DV3</td>\n",
       "      <td>LLS PF7004-158008-3971</td>\n",
       "      <td>OT. 20204374</td>\n",
       "      <td>REEMPLAZO DE  DOS RINES  (14). PATRIMONIO 8007...</td>\n",
       "      <td>TR</td>\n",
       "      <td>1019110.0</td>\n",
       "      <td>2020-12-11</td>\n",
       "      <td>2400.01</td>\n",
       "      <td>GASTOS VARIOS</td>\n",
       "    </tr>\n",
       "    <tr>\n",
       "      <th>4</th>\n",
       "      <td>110152</td>\n",
       "      <td>LLANTAS Y SERVICIOS SERNA ANAHUAC,S.A. DE C.V.</td>\n",
       "      <td>LSS841015DV3</td>\n",
       "      <td>LLS PF7137-158008-4554</td>\n",
       "      <td>OT. 20205130</td>\n",
       "      <td>REEMPLAZO E INSTALACION DE RIN 14. PATRIMONIO ...</td>\n",
       "      <td>TR</td>\n",
       "      <td>299001496.0</td>\n",
       "      <td>2020-12-23</td>\n",
       "      <td>1537.00</td>\n",
       "      <td>GASTOS VARIOS</td>\n",
       "    </tr>\n",
       "  </tbody>\n",
       "</table>\n",
       "</div>"
      ],
      "text/plain": [
       "   NUM BEN                                    BENEFICIARIO           RFC  \\\n",
       "0   110152  LLANTAS Y SERVICIOS SERNA ANAHUAC,S.A. DE C.V.  LSS841015DV3   \n",
       "1   110152  LLANTAS Y SERVICIOS SERNA ANAHUAC,S.A. DE C.V.  LSS841015DV3   \n",
       "2   110152  LLANTAS Y SERVICIOS SERNA ANAHUAC,S.A. DE C.V.  LSS841015DV3   \n",
       "3   110152  LLANTAS Y SERVICIOS SERNA ANAHUAC,S.A. DE C.V.  LSS841015DV3   \n",
       "4   110152  LLANTAS Y SERVICIOS SERNA ANAHUAC,S.A. DE C.V.  LSS841015DV3   \n",
       "\n",
       "                  FACTURA      CONTRATO  \\\n",
       "0  LLS AF8458-158008-3972  OT. 20204373   \n",
       "1  LLS PF6916-158008-4041  OT. 20204425   \n",
       "2  LLS PF6917-158008-3975  OT. 20204376   \n",
       "3  LLS PF7004-158008-3971  OT. 20204374   \n",
       "4  LLS PF7137-158008-4554  OT. 20205130   \n",
       "\n",
       "                                            CONCEPTO TIPO         # OP  \\\n",
       "0  REEMPLAZO E INSTALACION DE AMORTIGUADORES (DEL...   TR    1019110.0   \n",
       "1  REEMPLAZO E INSTALACION DE OCHO BIRLOS Y NUEVE...   TR    1019110.0   \n",
       "2  REEMPLAZO DE DOS RINES  (17). PATRIMONIO 80383...   TR    1019110.0   \n",
       "3  REEMPLAZO DE  DOS RINES  (14). PATRIMONIO 8007...   TR    1019110.0   \n",
       "4  REEMPLAZO E INSTALACION DE RIN 14. PATRIMONIO ...   TR  299001496.0   \n",
       "\n",
       "        FECHA   IMPORTE          SHEET  \n",
       "0  2020-12-11  14911.80  GASTOS VARIOS  \n",
       "1  2020-12-11   2528.80  GASTOS VARIOS  \n",
       "2  2020-12-11   8500.02  GASTOS VARIOS  \n",
       "3  2020-12-11   2400.01  GASTOS VARIOS  \n",
       "4  2020-12-23   1537.00  GASTOS VARIOS  "
      ]
     },
     "execution_count": 2,
     "metadata": {},
     "output_type": "execute_result"
    }
   ],
   "source": [
    "compras_df = pd.read_csv('data/clean_compras.csv')\n",
    "compras_df.head()"
   ]
  },
  {
   "cell_type": "markdown",
   "id": "af1591e0",
   "metadata": {},
   "source": [
    "### Vision General del Dataset"
   ]
  },
  {
   "cell_type": "code",
   "execution_count": 3,
   "id": "e9b55440",
   "metadata": {
    "scrolled": true
   },
   "outputs": [
    {
     "data": {
      "text/plain": [
       "Index(['NUM BEN', 'BENEFICIARIO', 'RFC', 'FACTURA', 'CONTRATO', 'CONCEPTO',\n",
       "       'TIPO', '# OP', 'FECHA', 'IMPORTE', 'SHEET'],\n",
       "      dtype='object')"
      ]
     },
     "execution_count": 3,
     "metadata": {},
     "output_type": "execute_result"
    }
   ],
   "source": [
    "compras_df.columns"
   ]
  },
  {
   "cell_type": "code",
   "execution_count": 4,
   "id": "05ae220b",
   "metadata": {
    "scrolled": false
   },
   "outputs": [
    {
     "data": {
      "text/plain": [
       "NUM BEN           int64\n",
       "BENEFICIARIO     object\n",
       "RFC              object\n",
       "FACTURA          object\n",
       "CONTRATO         object\n",
       "CONCEPTO         object\n",
       "TIPO             object\n",
       "# OP            float64\n",
       "FECHA            object\n",
       "IMPORTE         float64\n",
       "SHEET            object\n",
       "dtype: object"
      ]
     },
     "execution_count": 4,
     "metadata": {},
     "output_type": "execute_result"
    }
   ],
   "source": [
    "compras_df.dtypes"
   ]
  },
  {
   "cell_type": "code",
   "execution_count": 5,
   "id": "136020d3",
   "metadata": {},
   "outputs": [
    {
     "data": {
      "text/html": [
       "<div>\n",
       "<style scoped>\n",
       "    .dataframe tbody tr th:only-of-type {\n",
       "        vertical-align: middle;\n",
       "    }\n",
       "\n",
       "    .dataframe tbody tr th {\n",
       "        vertical-align: top;\n",
       "    }\n",
       "\n",
       "    .dataframe thead th {\n",
       "        text-align: right;\n",
       "    }\n",
       "</style>\n",
       "<table border=\"1\" class=\"dataframe\">\n",
       "  <thead>\n",
       "    <tr style=\"text-align: right;\">\n",
       "      <th></th>\n",
       "      <th>NUM BEN</th>\n",
       "      <th># OP</th>\n",
       "      <th>IMPORTE</th>\n",
       "    </tr>\n",
       "  </thead>\n",
       "  <tbody>\n",
       "    <tr>\n",
       "      <th>count</th>\n",
       "      <td>1540.000000</td>\n",
       "      <td>1.540000e+03</td>\n",
       "      <td>1.540000e+03</td>\n",
       "    </tr>\n",
       "    <tr>\n",
       "      <th>mean</th>\n",
       "      <td>203914.777273</td>\n",
       "      <td>1.920050e+08</td>\n",
       "      <td>6.263179e+05</td>\n",
       "    </tr>\n",
       "    <tr>\n",
       "      <th>std</th>\n",
       "      <td>92435.932025</td>\n",
       "      <td>1.411189e+08</td>\n",
       "      <td>4.666912e+06</td>\n",
       "    </tr>\n",
       "    <tr>\n",
       "      <th>min</th>\n",
       "      <td>110152.000000</td>\n",
       "      <td>1.019042e+06</td>\n",
       "      <td>8.600000e-01</td>\n",
       "    </tr>\n",
       "    <tr>\n",
       "      <th>25%</th>\n",
       "      <td>116223.000000</td>\n",
       "      <td>1.019144e+06</td>\n",
       "      <td>2.987000e+03</td>\n",
       "    </tr>\n",
       "    <tr>\n",
       "      <th>50%</th>\n",
       "      <td>203013.000000</td>\n",
       "      <td>2.980000e+08</td>\n",
       "      <td>1.235584e+04</td>\n",
       "    </tr>\n",
       "    <tr>\n",
       "      <th>75%</th>\n",
       "      <td>311250.000000</td>\n",
       "      <td>3.000001e+08</td>\n",
       "      <td>1.130583e+05</td>\n",
       "    </tr>\n",
       "    <tr>\n",
       "      <th>max</th>\n",
       "      <td>370012.000000</td>\n",
       "      <td>6.040001e+08</td>\n",
       "      <td>1.267303e+08</td>\n",
       "    </tr>\n",
       "  </tbody>\n",
       "</table>\n",
       "</div>"
      ],
      "text/plain": [
       "             NUM BEN          # OP       IMPORTE\n",
       "count    1540.000000  1.540000e+03  1.540000e+03\n",
       "mean   203914.777273  1.920050e+08  6.263179e+05\n",
       "std     92435.932025  1.411189e+08  4.666912e+06\n",
       "min    110152.000000  1.019042e+06  8.600000e-01\n",
       "25%    116223.000000  1.019144e+06  2.987000e+03\n",
       "50%    203013.000000  2.980000e+08  1.235584e+04\n",
       "75%    311250.000000  3.000001e+08  1.130583e+05\n",
       "max    370012.000000  6.040001e+08  1.267303e+08"
      ]
     },
     "execution_count": 5,
     "metadata": {},
     "output_type": "execute_result"
    }
   ],
   "source": [
    "# Variables numericas\n",
    "compras_df.describe()"
   ]
  },
  {
   "cell_type": "code",
   "execution_count": 6,
   "id": "f62543c3",
   "metadata": {},
   "outputs": [],
   "source": [
    "# Agrupamos las columnas\n",
    "compras_df = compras_df[['BENEFICIARIO', 'FACTURA', 'CONTRATO', 'CONCEPTO', 'TIPO', '# OP', 'FECHA', 'IMPORTE', 'SHEET']]"
   ]
  },
  {
   "cell_type": "markdown",
   "id": "9c3aa240",
   "metadata": {},
   "source": [
    "### Analisis unidimensional de las variables"
   ]
  },
  {
   "cell_type": "code",
   "execution_count": 7,
   "id": "fcd8af33",
   "metadata": {},
   "outputs": [
    {
     "data": {
      "text/plain": [
       "CONTRATISTAS Y FDO FED    724\n",
       "GASTOS VARIOS             690\n",
       "COMUNICACION               71\n",
       "SERV. PERS.                46\n",
       "SERV PPROF                  9\n",
       "Name: SHEET, dtype: int64"
      ]
     },
     "execution_count": 7,
     "metadata": {},
     "output_type": "execute_result"
    }
   ],
   "source": [
    "# Conteo de la ocurrencia de una variable\n",
    "compras_df['SHEET'].value_counts()"
   ]
  },
  {
   "cell_type": "code",
   "execution_count": 8,
   "id": "6987d691",
   "metadata": {},
   "outputs": [
    {
     "data": {
      "text/plain": [
       "1396"
      ]
     },
     "execution_count": 8,
     "metadata": {},
     "output_type": "execute_result"
    }
   ],
   "source": [
    "len(compras_df['CONCEPTO'].value_counts())"
   ]
  },
  {
   "cell_type": "code",
   "execution_count": 9,
   "id": "c92a3bc8",
   "metadata": {},
   "outputs": [
    {
     "data": {
      "text/plain": [
       "CAMARA MEXICANA DE LA INDUSTRIA DE LA CONSTRUCCION    266\n",
       "AUTOKAM REGIOMONTANA,S.A.DE C.V.                      101\n",
       "CAR ONE MONTERREY, S.A. DE C.V.                        78\n",
       "PEREZ RIOS RAMIRO                                      58\n",
       "S.I.M.E.P.R.O.D.E.                                     50\n",
       "INTERASFALTOS, S.A. DE C.V.                            45\n",
       "GRUPO COYOTE MONTERREY, S.A. DE C.V.                   43\n",
       "SERVICIO TECNICO CHURUBUSCO, S.A. DE C.V.              30\n",
       "CFE SUMINISTRADOR DE SERVICIOS BASICOS                 29\n",
       "CORDERO MACIAS SILVESTRE GUADALUPE                     27\n",
       "Name: BENEFICIARIO, dtype: int64"
      ]
     },
     "execution_count": 9,
     "metadata": {},
     "output_type": "execute_result"
    }
   ],
   "source": [
    "compras_df['BENEFICIARIO'].value_counts()[0:10]"
   ]
  },
  {
   "cell_type": "code",
   "execution_count": 10,
   "id": "fade90b2",
   "metadata": {
    "scrolled": false
   },
   "outputs": [
    {
     "data": {
      "text/plain": [
       "<AxesSubplot:>"
      ]
     },
     "execution_count": 10,
     "metadata": {},
     "output_type": "execute_result"
    },
    {
     "data": {
      "image/png": "[encoded data removed]",
      "text/plain": [
       "<Figure size 432x288 with 1 Axes>"
      ]
     },
     "metadata": {
      "needs_background": "light"
     },
     "output_type": "display_data"
    }
   ],
   "source": [
    "# Analisis numerico, usamos histograma\n",
    "compras_df['IMPORTE'].hist()"
   ]
  },
  {
   "cell_type": "code",
   "execution_count": 11,
   "id": "08b0be81",
   "metadata": {
    "scrolled": true
   },
   "outputs": [
    {
     "data": {
      "text/plain": [
       "<AxesSubplot:>"
      ]
     },
     "execution_count": 11,
     "metadata": {},
     "output_type": "execute_result"
    },
    {
     "data": {
      "image/png": "[encoded data removed]",
      "text/plain": [
       "<Figure size 432x288 with 1 Axes>"
      ]
     },
     "metadata": {
      "needs_background": "light"
     },
     "output_type": "display_data"
    }
   ],
   "source": [
    "# Traer los valores centrales\n",
    "compras_df[compras_df['IMPORTE'] < compras_df['IMPORTE'].quantile(0.95)]['IMPORTE'].hist()"
   ]
  },
  {
   "cell_type": "code",
   "execution_count": 12,
   "id": "7545d68d",
   "metadata": {
    "scrolled": true
   },
   "outputs": [
    {
     "data": {
      "text/plain": [
       "<AxesSubplot:>"
      ]
     },
     "execution_count": 12,
     "metadata": {},
     "output_type": "execute_result"
    },
    {
     "data": {
      "image/png": "[encoded data removed]",
      "text/plain": [
       "<Figure size 432x288 with 1 Axes>"
      ]
     },
     "metadata": {
      "needs_background": "light"
     },
     "output_type": "display_data"
    }
   ],
   "source": [
    "compras_df[compras_df['IMPORTE'] < compras_df['IMPORTE'].quantile(0.95)]['IMPORTE'].hist(bins=50)"
   ]
  },
  {
   "cell_type": "code",
   "execution_count": 13,
   "id": "1b96e9f7",
   "metadata": {},
   "outputs": [
    {
     "data": {
      "text/html": [
       "<div>\n",
       "<style scoped>\n",
       "    .dataframe tbody tr th:only-of-type {\n",
       "        vertical-align: middle;\n",
       "    }\n",
       "\n",
       "    .dataframe tbody tr th {\n",
       "        vertical-align: top;\n",
       "    }\n",
       "\n",
       "    .dataframe thead th {\n",
       "        text-align: right;\n",
       "    }\n",
       "</style>\n",
       "<table border=\"1\" class=\"dataframe\">\n",
       "  <thead>\n",
       "    <tr style=\"text-align: right;\">\n",
       "      <th></th>\n",
       "      <th>BENEFICIARIO</th>\n",
       "      <th>FACTURA</th>\n",
       "      <th>CONTRATO</th>\n",
       "      <th>CONCEPTO</th>\n",
       "      <th>TIPO</th>\n",
       "      <th># OP</th>\n",
       "      <th>FECHA</th>\n",
       "      <th>IMPORTE</th>\n",
       "      <th>SHEET</th>\n",
       "    </tr>\n",
       "  </thead>\n",
       "  <tbody>\n",
       "    <tr>\n",
       "      <th>0</th>\n",
       "      <td>LLANTAS Y SERVICIOS SERNA ANAHUAC,S.A. DE C.V.</td>\n",
       "      <td>LLS AF8458-158008-3972</td>\n",
       "      <td>OT. 20204373</td>\n",
       "      <td>REEMPLAZO E INSTALACION DE AMORTIGUADORES (DEL...</td>\n",
       "      <td>TR</td>\n",
       "      <td>1019110.0</td>\n",
       "      <td>2020-12-11</td>\n",
       "      <td>14911.80</td>\n",
       "      <td>GASTOS VARIOS</td>\n",
       "    </tr>\n",
       "    <tr>\n",
       "      <th>1</th>\n",
       "      <td>LLANTAS Y SERVICIOS SERNA ANAHUAC,S.A. DE C.V.</td>\n",
       "      <td>LLS PF6916-158008-4041</td>\n",
       "      <td>OT. 20204425</td>\n",
       "      <td>REEMPLAZO E INSTALACION DE OCHO BIRLOS Y NUEVE...</td>\n",
       "      <td>TR</td>\n",
       "      <td>1019110.0</td>\n",
       "      <td>2020-12-11</td>\n",
       "      <td>2528.80</td>\n",
       "      <td>GASTOS VARIOS</td>\n",
       "    </tr>\n",
       "    <tr>\n",
       "      <th>2</th>\n",
       "      <td>LLANTAS Y SERVICIOS SERNA ANAHUAC,S.A. DE C.V.</td>\n",
       "      <td>LLS PF6917-158008-3975</td>\n",
       "      <td>OT. 20204376</td>\n",
       "      <td>REEMPLAZO DE DOS RINES  (17). PATRIMONIO 80383...</td>\n",
       "      <td>TR</td>\n",
       "      <td>1019110.0</td>\n",
       "      <td>2020-12-11</td>\n",
       "      <td>8500.02</td>\n",
       "      <td>GASTOS VARIOS</td>\n",
       "    </tr>\n",
       "    <tr>\n",
       "      <th>3</th>\n",
       "      <td>LLANTAS Y SERVICIOS SERNA ANAHUAC,S.A. DE C.V.</td>\n",
       "      <td>LLS PF7004-158008-3971</td>\n",
       "      <td>OT. 20204374</td>\n",
       "      <td>REEMPLAZO DE  DOS RINES  (14). PATRIMONIO 8007...</td>\n",
       "      <td>TR</td>\n",
       "      <td>1019110.0</td>\n",
       "      <td>2020-12-11</td>\n",
       "      <td>2400.01</td>\n",
       "      <td>GASTOS VARIOS</td>\n",
       "    </tr>\n",
       "    <tr>\n",
       "      <th>4</th>\n",
       "      <td>LLANTAS Y SERVICIOS SERNA ANAHUAC,S.A. DE C.V.</td>\n",
       "      <td>LLS PF7137-158008-4554</td>\n",
       "      <td>OT. 20205130</td>\n",
       "      <td>REEMPLAZO E INSTALACION DE RIN 14. PATRIMONIO ...</td>\n",
       "      <td>TR</td>\n",
       "      <td>299001496.0</td>\n",
       "      <td>2020-12-23</td>\n",
       "      <td>1537.00</td>\n",
       "      <td>GASTOS VARIOS</td>\n",
       "    </tr>\n",
       "  </tbody>\n",
       "</table>\n",
       "</div>"
      ],
      "text/plain": [
       "                                     BENEFICIARIO                 FACTURA  \\\n",
       "0  LLANTAS Y SERVICIOS SERNA ANAHUAC,S.A. DE C.V.  LLS AF8458-158008-3972   \n",
       "1  LLANTAS Y SERVICIOS SERNA ANAHUAC,S.A. DE C.V.  LLS PF6916-158008-4041   \n",
       "2  LLANTAS Y SERVICIOS SERNA ANAHUAC,S.A. DE C.V.  LLS PF6917-158008-3975   \n",
       "3  LLANTAS Y SERVICIOS SERNA ANAHUAC,S.A. DE C.V.  LLS PF7004-158008-3971   \n",
       "4  LLANTAS Y SERVICIOS SERNA ANAHUAC,S.A. DE C.V.  LLS PF7137-158008-4554   \n",
       "\n",
       "       CONTRATO                                           CONCEPTO TIPO  \\\n",
       "0  OT. 20204373  REEMPLAZO E INSTALACION DE AMORTIGUADORES (DEL...   TR   \n",
       "1  OT. 20204425  REEMPLAZO E INSTALACION DE OCHO BIRLOS Y NUEVE...   TR   \n",
       "2  OT. 20204376  REEMPLAZO DE DOS RINES  (17). PATRIMONIO 80383...   TR   \n",
       "3  OT. 20204374  REEMPLAZO DE  DOS RINES  (14). PATRIMONIO 8007...   TR   \n",
       "4  OT. 20205130  REEMPLAZO E INSTALACION DE RIN 14. PATRIMONIO ...   TR   \n",
       "\n",
       "          # OP       FECHA   IMPORTE          SHEET  \n",
       "0    1019110.0  2020-12-11  14911.80  GASTOS VARIOS  \n",
       "1    1019110.0  2020-12-11   2528.80  GASTOS VARIOS  \n",
       "2    1019110.0  2020-12-11   8500.02  GASTOS VARIOS  \n",
       "3    1019110.0  2020-12-11   2400.01  GASTOS VARIOS  \n",
       "4  299001496.0  2020-12-23   1537.00  GASTOS VARIOS  "
      ]
     },
     "execution_count": 13,
     "metadata": {},
     "output_type": "execute_result"
    }
   ],
   "source": [
    "compras_df[compras_df['IMPORTE'] < compras_df['IMPORTE'].quantile(0.95)].head()"
   ]
  },
  {
   "cell_type": "markdown",
   "id": "943d9a22",
   "metadata": {},
   "source": [
    "### Analisis multidimensional de las variables"
   ]
  },
  {
   "cell_type": "code",
   "execution_count": 14,
   "id": "f7ef2ebe",
   "metadata": {},
   "outputs": [],
   "source": [
    "def gruopby_caracteristica(data, caracteristica, maths=None):\n",
    "    if maths == 'sum':\n",
    "        gruoped_caracteristica = data.groupby(caracteristica).sum()['IMPORTE']\n",
    "    elif maths == 'mean':\n",
    "        gruoped_caracteristica = data.groupby(caracteristica).mean()['IMPORTE']\n",
    "    else:\n",
    "        gruoped_caracteristica = data.groupby(caracteristica)['IMPORTE']\n",
    "        \n",
    "    return gruoped_caracteristica"
   ]
  },
  {
   "cell_type": "code",
   "execution_count": 15,
   "id": "63a23bc4",
   "metadata": {
    "scrolled": true
   },
   "outputs": [
    {
     "data": {
      "text/plain": [
       "BENEFICIARIO\n",
       "235 PROYECTOS, S.A. DE C.V.                   1649292.36\n",
       "ABC Y CONSTRUCCIONES, SA. DE CV.              1311087.90\n",
       "ACEROS Y OVEROLLINGS DE MEXICO, SA. DE CV.       5914.30\n",
       "ADQUISICIONES INTELIGENTES, S.A. DE C.V.      2132196.00\n",
       "ALIANZA AUTOMOTRIZ RIVERO, SA. DE CV.          450859.52\n",
       "                                                 ...    \n",
       "VILLARREAL CARDENAS JUAN IGNACIO                 3733.13\n",
       "VILLARREAL CARDENAS NANCY ESTHER                81461.14\n",
       "VILLARREAL DE LEON BERTHA                       11004.05\n",
       "VIVERO EL ESCORIAL, S.A. DE C.V.              2511255.46\n",
       "ZAPATA CHAVIRA HOMERO ARTURO                    28350.00\n",
       "Name: IMPORTE, Length: 301, dtype: float64"
      ]
     },
     "execution_count": 15,
     "metadata": {},
     "output_type": "execute_result"
    }
   ],
   "source": [
    "# Proovedores con mayor carga economica\n",
    "sum_importe_beneficiario = gruopby_caracteristica(compras_df, 'BENEFICIARIO', 'sum')\n",
    "sum_importe_beneficiario"
   ]
  },
  {
   "cell_type": "code",
   "execution_count": 16,
   "id": "b495029e",
   "metadata": {
    "scrolled": false
   },
   "outputs": [
    {
     "data": {
      "text/plain": [
       "<AxesSubplot:>"
      ]
     },
     "execution_count": 16,
     "metadata": {},
     "output_type": "execute_result"
    },
    {
     "data": {
      "image/png": "[encoded data removed]",
      "text/plain": [
       "<Figure size 432x288 with 1 Axes>"
      ]
     },
     "metadata": {
      "needs_background": "light"
     },
     "output_type": "display_data"
    }
   ],
   "source": [
    "sum_importe_beneficiario.reset_index().sort_values(by='IMPORTE', ascending=False).iloc[0:10].plot(kind='bar')"
   ]
  },
  {
   "cell_type": "code",
   "execution_count": 17,
   "id": "b8909c7c",
   "metadata": {},
   "outputs": [],
   "source": [
    "# Gasto promedio por hoja\n",
    "def top_gastos(data, top=None, plot=False,):\n",
    "    top_tabla = data.reset_index().sort_values(by=\"IMPORTE\", ascending=False).iloc[0:top]    \n",
    "    if plot == False:\n",
    "        return top_tabla\n",
    "    elif plot == True: \n",
    "        top_plot = top_tabla.plot(kind='bar')\n",
    "        return top_plot"
   ]
  },
  {
   "cell_type": "code",
   "execution_count": 18,
   "id": "10cdc8ef",
   "metadata": {
    "scrolled": true
   },
   "outputs": [
    {
     "data": {
      "text/plain": [
       "<AxesSubplot:>"
      ]
     },
     "execution_count": 18,
     "metadata": {},
     "output_type": "execute_result"
    },
    {
     "data": {
      "image/png": "[encoded data removed]",
      "text/plain": [
       "<Figure size 432x288 with 1 Axes>"
      ]
     },
     "metadata": {
      "needs_background": "light"
     },
     "output_type": "display_data"
    }
   ],
   "source": [
    "mean_importe_sheet = gruopby_caracteristica(compras_df, 'SHEET', 'mean')\n",
    "top_gastos(mean_importe_sheet, 10, True)"
   ]
  },
  {
   "cell_type": "code",
   "execution_count": 19,
   "id": "67169892",
   "metadata": {},
   "outputs": [
    {
     "data": {
      "text/plain": [
       "SHEET\n",
       "COMUNICACION              109705.343662\n",
       "CONTRATISTAS Y FDO FED    474566.765787\n",
       "GASTOS VARIOS             881659.731797\n",
       "SERV PPROF                229592.166667\n",
       "SERV. PERS.                59623.405217\n",
       "Name: IMPORTE, dtype: float64"
      ]
     },
     "execution_count": 19,
     "metadata": {},
     "output_type": "execute_result"
    }
   ],
   "source": [
    "mean_importe_sheet"
   ]
  },
  {
   "cell_type": "code",
   "execution_count": 20,
   "id": "9082c6dd",
   "metadata": {
    "scrolled": true
   },
   "outputs": [
    {
     "data": {
      "text/plain": [
       "FECHA\n",
       "2020-12-01    2.453181e+04\n",
       "2020-12-02    3.000000e+04\n",
       "2020-12-03    1.313241e+05\n",
       "2020-12-04    7.432247e+07\n",
       "2020-12-07    1.815018e+06\n",
       "2020-12-08    1.519824e+08\n",
       "2020-12-09    4.659596e+05\n",
       "2020-12-10    1.207010e+06\n",
       "2020-12-11    1.127524e+08\n",
       "2020-12-14    3.692338e+05\n",
       "2020-12-15    1.826510e+04\n",
       "2020-12-16    2.504067e+06\n",
       "2020-12-17    1.735205e+08\n",
       "2020-12-18    1.568875e+08\n",
       "2020-12-21    9.441760e+05\n",
       "2020-12-22    6.814845e+07\n",
       "2020-12-23    3.328571e+07\n",
       "2020-12-28    1.204764e+08\n",
       "2020-12-29    2.050000e+05\n",
       "2020-12-30    6.435889e+07\n",
       "2020-12-31    1.080281e+06\n",
       "Name: IMPORTE, dtype: float64"
      ]
     },
     "execution_count": 20,
     "metadata": {},
     "output_type": "execute_result"
    }
   ],
   "source": [
    "sum_importe_fecha = gruopby_caracteristica(compras_df, 'FECHA', 'sum')\n",
    "sum_importe_fecha"
   ]
  },
  {
   "cell_type": "code",
   "execution_count": 21,
   "id": "0eeacd1b",
   "metadata": {},
   "outputs": [],
   "source": [
    "# Posibilidad de abrir filtros\n",
    "compras_gastos_df = compras_df[compras_df['SHEET'] == 'GASTOS VARIOS']"
   ]
  },
  {
   "cell_type": "code",
   "execution_count": 22,
   "id": "baa92a74",
   "metadata": {},
   "outputs": [
    {
     "data": {
      "text/plain": [
       "<AxesSubplot:>"
      ]
     },
     "execution_count": 22,
     "metadata": {},
     "output_type": "execute_result"
    },
    {
     "data": {
      "image/png": "[encoded data removed]",
      "text/plain": [
       "<Figure size 432x288 with 1 Axes>"
      ]
     },
     "metadata": {
      "needs_background": "light"
     },
     "output_type": "display_data"
    }
   ],
   "source": [
    "compras_gastos_df['IMPORTE'].hist(bins=50)"
   ]
  },
  {
   "cell_type": "code",
   "execution_count": 25,
   "id": "6472b919",
   "metadata": {
    "scrolled": true
   },
   "outputs": [
    {
     "data": {
      "text/plain": [
       "GASTOS VARIOS             11\n",
       "CONTRATISTAS Y FDO FED     5\n",
       "Name: SHEET, dtype: int64"
      ]
     },
     "execution_count": 25,
     "metadata": {},
     "output_type": "execute_result"
    }
   ],
   "source": [
    "compras_df[compras_df['BENEFICIARIO'] == \"MUNICIPIO DE LA CIUDAD DE MONTERREY\"]['SHEET'].value_counts()"
   ]
  },
  {
   "cell_type": "code",
   "execution_count": 27,
   "id": "97728274",
   "metadata": {},
   "outputs": [
    {
     "data": {
      "text/html": [
       "<div>\n",
       "<style scoped>\n",
       "    .dataframe tbody tr th:only-of-type {\n",
       "        vertical-align: middle;\n",
       "    }\n",
       "\n",
       "    .dataframe tbody tr th {\n",
       "        vertical-align: top;\n",
       "    }\n",
       "\n",
       "    .dataframe thead th {\n",
       "        text-align: right;\n",
       "    }\n",
       "</style>\n",
       "<table border=\"1\" class=\"dataframe\">\n",
       "  <thead>\n",
       "    <tr style=\"text-align: right;\">\n",
       "      <th>SHEET</th>\n",
       "      <th>COMUNICACION</th>\n",
       "      <th>CONTRATISTAS Y FDO FED</th>\n",
       "      <th>GASTOS VARIOS</th>\n",
       "      <th>SERV PPROF</th>\n",
       "      <th>SERV. PERS.</th>\n",
       "    </tr>\n",
       "    <tr>\n",
       "      <th>BENEFICIARIO</th>\n",
       "      <th></th>\n",
       "      <th></th>\n",
       "      <th></th>\n",
       "      <th></th>\n",
       "      <th></th>\n",
       "    </tr>\n",
       "  </thead>\n",
       "  <tbody>\n",
       "    <tr>\n",
       "      <th>235 PROYECTOS, S.A. DE C.V.</th>\n",
       "      <td>NaN</td>\n",
       "      <td>NaN</td>\n",
       "      <td>1649292.36</td>\n",
       "      <td>NaN</td>\n",
       "      <td>NaN</td>\n",
       "    </tr>\n",
       "    <tr>\n",
       "      <th>ABC Y CONSTRUCCIONES, SA. DE CV.</th>\n",
       "      <td>NaN</td>\n",
       "      <td>1311087.9</td>\n",
       "      <td>NaN</td>\n",
       "      <td>NaN</td>\n",
       "      <td>NaN</td>\n",
       "    </tr>\n",
       "    <tr>\n",
       "      <th>ACEROS Y OVEROLLINGS DE MEXICO, SA. DE CV.</th>\n",
       "      <td>NaN</td>\n",
       "      <td>NaN</td>\n",
       "      <td>5914.30</td>\n",
       "      <td>NaN</td>\n",
       "      <td>NaN</td>\n",
       "    </tr>\n",
       "    <tr>\n",
       "      <th>ADQUISICIONES INTELIGENTES, S.A. DE C.V.</th>\n",
       "      <td>NaN</td>\n",
       "      <td>2132196.0</td>\n",
       "      <td>NaN</td>\n",
       "      <td>NaN</td>\n",
       "      <td>NaN</td>\n",
       "    </tr>\n",
       "    <tr>\n",
       "      <th>ALIANZA AUTOMOTRIZ RIVERO, SA. DE CV.</th>\n",
       "      <td>NaN</td>\n",
       "      <td>NaN</td>\n",
       "      <td>450859.52</td>\n",
       "      <td>NaN</td>\n",
       "      <td>NaN</td>\n",
       "    </tr>\n",
       "    <tr>\n",
       "      <th>...</th>\n",
       "      <td>...</td>\n",
       "      <td>...</td>\n",
       "      <td>...</td>\n",
       "      <td>...</td>\n",
       "      <td>...</td>\n",
       "    </tr>\n",
       "    <tr>\n",
       "      <th>VILLARREAL CARDENAS JUAN IGNACIO</th>\n",
       "      <td>NaN</td>\n",
       "      <td>NaN</td>\n",
       "      <td>NaN</td>\n",
       "      <td>NaN</td>\n",
       "      <td>3733.13</td>\n",
       "    </tr>\n",
       "    <tr>\n",
       "      <th>VILLARREAL CARDENAS NANCY ESTHER</th>\n",
       "      <td>NaN</td>\n",
       "      <td>NaN</td>\n",
       "      <td>NaN</td>\n",
       "      <td>NaN</td>\n",
       "      <td>81461.14</td>\n",
       "    </tr>\n",
       "    <tr>\n",
       "      <th>VILLARREAL DE LEON BERTHA</th>\n",
       "      <td>NaN</td>\n",
       "      <td>NaN</td>\n",
       "      <td>11004.05</td>\n",
       "      <td>NaN</td>\n",
       "      <td>NaN</td>\n",
       "    </tr>\n",
       "    <tr>\n",
       "      <th>VIVERO EL ESCORIAL, S.A. DE C.V.</th>\n",
       "      <td>NaN</td>\n",
       "      <td>NaN</td>\n",
       "      <td>2511255.46</td>\n",
       "      <td>NaN</td>\n",
       "      <td>NaN</td>\n",
       "    </tr>\n",
       "    <tr>\n",
       "      <th>ZAPATA CHAVIRA HOMERO ARTURO</th>\n",
       "      <td>NaN</td>\n",
       "      <td>NaN</td>\n",
       "      <td>NaN</td>\n",
       "      <td>28350.0</td>\n",
       "      <td>NaN</td>\n",
       "    </tr>\n",
       "  </tbody>\n",
       "</table>\n",
       "<p>301 rows × 5 columns</p>\n",
       "</div>"
      ],
      "text/plain": [
       "SHEET                                       COMUNICACION  \\\n",
       "BENEFICIARIO                                               \n",
       "235 PROYECTOS, S.A. DE C.V.                          NaN   \n",
       "ABC Y CONSTRUCCIONES, SA. DE CV.                     NaN   \n",
       "ACEROS Y OVEROLLINGS DE MEXICO, SA. DE CV.           NaN   \n",
       "ADQUISICIONES INTELIGENTES, S.A. DE C.V.             NaN   \n",
       "ALIANZA AUTOMOTRIZ RIVERO, SA. DE CV.                NaN   \n",
       "...                                                  ...   \n",
       "VILLARREAL CARDENAS JUAN IGNACIO                     NaN   \n",
       "VILLARREAL CARDENAS NANCY ESTHER                     NaN   \n",
       "VILLARREAL DE LEON BERTHA                            NaN   \n",
       "VIVERO EL ESCORIAL, S.A. DE C.V.                     NaN   \n",
       "ZAPATA CHAVIRA HOMERO ARTURO                         NaN   \n",
       "\n",
       "SHEET                                       CONTRATISTAS Y FDO FED  \\\n",
       "BENEFICIARIO                                                         \n",
       "235 PROYECTOS, S.A. DE C.V.                                    NaN   \n",
       "ABC Y CONSTRUCCIONES, SA. DE CV.                         1311087.9   \n",
       "ACEROS Y OVEROLLINGS DE MEXICO, SA. DE CV.                     NaN   \n",
       "ADQUISICIONES INTELIGENTES, S.A. DE C.V.                 2132196.0   \n",
       "ALIANZA AUTOMOTRIZ RIVERO, SA. DE CV.                          NaN   \n",
       "...                                                            ...   \n",
       "VILLARREAL CARDENAS JUAN IGNACIO                               NaN   \n",
       "VILLARREAL CARDENAS NANCY ESTHER                               NaN   \n",
       "VILLARREAL DE LEON BERTHA                                      NaN   \n",
       "VIVERO EL ESCORIAL, S.A. DE C.V.                               NaN   \n",
       "ZAPATA CHAVIRA HOMERO ARTURO                                   NaN   \n",
       "\n",
       "SHEET                                       GASTOS VARIOS  SERV PPROF  \\\n",
       "BENEFICIARIO                                                            \n",
       "235 PROYECTOS, S.A. DE C.V.                    1649292.36         NaN   \n",
       "ABC Y CONSTRUCCIONES, SA. DE CV.                      NaN         NaN   \n",
       "ACEROS Y OVEROLLINGS DE MEXICO, SA. DE CV.        5914.30         NaN   \n",
       "ADQUISICIONES INTELIGENTES, S.A. DE C.V.              NaN         NaN   \n",
       "ALIANZA AUTOMOTRIZ RIVERO, SA. DE CV.           450859.52         NaN   \n",
       "...                                                   ...         ...   \n",
       "VILLARREAL CARDENAS JUAN IGNACIO                      NaN         NaN   \n",
       "VILLARREAL CARDENAS NANCY ESTHER                      NaN         NaN   \n",
       "VILLARREAL DE LEON BERTHA                        11004.05         NaN   \n",
       "VIVERO EL ESCORIAL, S.A. DE C.V.               2511255.46         NaN   \n",
       "ZAPATA CHAVIRA HOMERO ARTURO                          NaN     28350.0   \n",
       "\n",
       "SHEET                                       SERV. PERS.  \n",
       "BENEFICIARIO                                             \n",
       "235 PROYECTOS, S.A. DE C.V.                         NaN  \n",
       "ABC Y CONSTRUCCIONES, SA. DE CV.                    NaN  \n",
       "ACEROS Y OVEROLLINGS DE MEXICO, SA. DE CV.          NaN  \n",
       "ADQUISICIONES INTELIGENTES, S.A. DE C.V.            NaN  \n",
       "ALIANZA AUTOMOTRIZ RIVERO, SA. DE CV.               NaN  \n",
       "...                                                 ...  \n",
       "VILLARREAL CARDENAS JUAN IGNACIO                3733.13  \n",
       "VILLARREAL CARDENAS NANCY ESTHER               81461.14  \n",
       "VILLARREAL DE LEON BERTHA                           NaN  \n",
       "VIVERO EL ESCORIAL, S.A. DE C.V.                    NaN  \n",
       "ZAPATA CHAVIRA HOMERO ARTURO                        NaN  \n",
       "\n",
       "[301 rows x 5 columns]"
      ]
     },
     "execution_count": 27,
     "metadata": {},
     "output_type": "execute_result"
    }
   ],
   "source": [
    "# Agrupar o filtrar con dos variables a la vez\n",
    "compras_sheet_beneficiario = compras_df.groupby(['BENEFICIARIO', 'SHEET']).sum()['IMPORTE'].sort_values().unstack('SHEET')\n",
    "compras_sheet_beneficiario"
   ]
  },
  {
   "cell_type": "code",
   "execution_count": 31,
   "id": "ca348dc3",
   "metadata": {
    "scrolled": true
   },
   "outputs": [
    {
     "data": {
      "text/plain": [
       "<AxesSubplot:xlabel='BENEFICIARIO'>"
      ]
     },
     "execution_count": 31,
     "metadata": {},
     "output_type": "execute_result"
    },
    {
     "data": {
      "image/png": "[encoded data removed]",
      "text/plain": [
       "<Figure size 432x288 with 1 Axes>"
      ]
     },
     "metadata": {
      "needs_background": "light"
     },
     "output_type": "display_data"
    }
   ],
   "source": [
    "top_beneficiarios = compras_df.groupby('BENEFICIARIO')['IMPORTE'].sum().sort_values(ascending=False).index[0:10]\n",
    "compras_sheet_beneficiario.loc[top_beneficiarios].plot.bar(stacked=True)"
   ]
  },
  {
   "cell_type": "markdown",
   "id": "cbeab571",
   "metadata": {},
   "source": [
    "### Analisis de Texto"
   ]
  },
  {
   "cell_type": "code",
   "execution_count": 33,
   "id": "d128695f",
   "metadata": {},
   "outputs": [
    {
     "name": "stdout",
     "output_type": "stream",
     "text": [
      "['de', 'la', 'que', 'el', 'en', 'y', 'a', 'los', 'del', 'se', 'las', 'por', 'un', 'para', 'con', 'no', 'una', 'su', 'al', 'lo', 'como', 'más', 'pero', 'sus', 'le', 'ya', 'o', 'este', 'sí', 'porque', 'esta', 'entre', 'cuando', 'muy', 'sin', 'sobre', 'también', 'me', 'hasta', 'hay', 'donde', 'quien', 'desde', 'todo', 'nos', 'durante', 'todos', 'uno', 'les', 'ni', 'contra', 'otros', 'ese', 'eso', 'ante', 'ellos', 'e', 'esto', 'mí', 'antes', 'algunos', 'qué', 'unos', 'yo', 'otro', 'otras', 'otra', 'él', 'tanto', 'esa', 'estos', 'mucho', 'quienes', 'nada', 'muchos', 'cual', 'poco', 'ella', 'estar', 'estas', 'algunas', 'algo', 'nosotros', 'mi', 'mis', 'tú', 'te', 'ti', 'tu', 'tus', 'ellas', 'nosotras', 'vosotros', 'vosotras', 'os', 'mío', 'mía', 'míos', 'mías', 'tuyo', 'tuya', 'tuyos', 'tuyas', 'suyo', 'suya', 'suyos', 'suyas', 'nuestro', 'nuestra', 'nuestros', 'nuestras', 'vuestro', 'vuestra', 'vuestros', 'vuestras', 'esos', 'esas', 'estoy', 'estás', 'está', 'estamos', 'estáis', 'están', 'esté', 'estés', 'estemos', 'estéis', 'estén', 'estaré', 'estarás', 'estará', 'estaremos', 'estaréis', 'estarán', 'estaría', 'estarías', 'estaríamos', 'estaríais', 'estarían', 'estaba', 'estabas', 'estábamos', 'estabais', 'estaban', 'estuve', 'estuviste', 'estuvo', 'estuvimos', 'estuvisteis', 'estuvieron', 'estuviera', 'estuvieras', 'estuviéramos', 'estuvierais', 'estuvieran', 'estuviese', 'estuvieses', 'estuviésemos', 'estuvieseis', 'estuviesen', 'estando', 'estado', 'estada', 'estados', 'estadas', 'estad', 'he', 'has', 'ha', 'hemos', 'habéis', 'han', 'haya', 'hayas', 'hayamos', 'hayáis', 'hayan', 'habré', 'habrás', 'habrá', 'habremos', 'habréis', 'habrán', 'habría', 'habrías', 'habríamos', 'habríais', 'habrían', 'había', 'habías', 'habíamos', 'habíais', 'habían', 'hube', 'hubiste', 'hubo', 'hubimos', 'hubisteis', 'hubieron', 'hubiera', 'hubieras', 'hubiéramos', 'hubierais', 'hubieran', 'hubiese', 'hubieses', 'hubiésemos', 'hubieseis', 'hubiesen', 'habiendo', 'habido', 'habida', 'habidos', 'habidas', 'soy', 'eres', 'es', 'somos', 'sois', 'son', 'sea', 'seas', 'seamos', 'seáis', 'sean', 'seré', 'serás', 'será', 'seremos', 'seréis', 'serán', 'sería', 'serías', 'seríamos', 'seríais', 'serían', 'era', 'eras', 'éramos', 'erais', 'eran', 'fui', 'fuiste', 'fue', 'fuimos', 'fuisteis', 'fueron', 'fuera', 'fueras', 'fuéramos', 'fuerais', 'fueran', 'fuese', 'fueses', 'fuésemos', 'fueseis', 'fuesen', 'sintiendo', 'sentido', 'sentida', 'sentidos', 'sentidas', 'siente', 'sentid', 'tengo', 'tienes', 'tiene', 'tenemos', 'tenéis', 'tienen', 'tenga', 'tengas', 'tengamos', 'tengáis', 'tengan', 'tendré', 'tendrás', 'tendrá', 'tendremos', 'tendréis', 'tendrán', 'tendría', 'tendrías', 'tendríamos', 'tendríais', 'tendrían', 'tenía', 'tenías', 'teníamos', 'teníais', 'tenían', 'tuve', 'tuviste', 'tuvo', 'tuvimos', 'tuvisteis', 'tuvieron', 'tuviera', 'tuvieras', 'tuviéramos', 'tuvierais', 'tuvieran', 'tuviese', 'tuvieses', 'tuviésemos', 'tuvieseis', 'tuviesen', 'teniendo', 'tenido', 'tenida', 'tenidos', 'tenidas', 'tened']\n"
     ]
    }
   ],
   "source": [
    "# Analisis de nube de palabras\n",
    "import nltk\n",
    "from nltk.corpus import stopwords\n",
    "print(stopwords.words('spanish'))"
   ]
  },
  {
   "cell_type": "code",
   "execution_count": 35,
   "id": "85ff19e4",
   "metadata": {},
   "outputs": [],
   "source": [
    "texto_compras = ''\n",
    "for row in compras_df['CONCEPTO']:\n",
    "    texto_compras = texto_compras + ' ' + row"
   ]
  },
  {
   "cell_type": "code",
   "execution_count": 36,
   "id": "8536eed1",
   "metadata": {},
   "outputs": [],
   "source": [
    "stopwords_list = stopwords.words('spanish') + ['2020', 'cont', 'millar', 'dpp', 'est', 'op', 'ret', 'mty', 'icom']"
   ]
  },
  {
   "cell_type": "code",
   "execution_count": 40,
   "id": "68bf9ddc",
   "metadata": {},
   "outputs": [],
   "source": [
    "texto_compras = ' '.join([x for x in texto_compras.strip().lower().split(' ') if x not in stopwords_list])"
   ]
  },
  {
   "cell_type": "code",
   "execution_count": 41,
   "id": "52db6f16",
   "metadata": {},
   "outputs": [],
   "source": [
    "from wordcloud import WordCloud\n",
    "import matplotlib.pyplot as plt"
   ]
  },
  {
   "cell_type": "code",
   "execution_count": 42,
   "id": "a52391d8",
   "metadata": {},
   "outputs": [
    {
     "data": {
      "image/png": "[encoded data removed]",
      "text/plain": [
       "<Figure size 432x288 with 1 Axes>"
      ]
     },
     "metadata": {
      "needs_background": "light"
     },
     "output_type": "display_data"
    }
   ],
   "source": [
    "wc = WordCloud(background_color='white')\n",
    "wc.generate(texto_compras)\n",
    "\n",
    "plt.axis('off')\n",
    "plt.imshow(wc, interpolation='bilinear')\n",
    "plt.show()"
   ]
  },
  {
   "cell_type": "code",
   "execution_count": null,
   "id": "07988757",
   "metadata": {},
   "outputs": [],
   "source": []
  }
 ],
 "metadata": {
  "kernelspec": {
   "display_name": "Python 3 (ipykernel)",
   "language": "python",
   "name": "python3"
  },
  "language_info": {
   "codemirror_mode": {
    "name": "ipython",
    "version": 3
   },
   "file_extension": ".py",
   "mimetype": "text/x-python",
   "name": "python",
   "nbconvert_exporter": "python",
   "pygments_lexer": "ipython3",
   "version": "3.8.8"
  }
 },
 "nbformat": 4,
 "nbformat_minor": 5
}
